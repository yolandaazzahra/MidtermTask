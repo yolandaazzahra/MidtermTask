https://colab.research.google.com/drive/1G_RSK7QTI41mIzSrWZdt-IZA8PglO_3l?usp=sharing
